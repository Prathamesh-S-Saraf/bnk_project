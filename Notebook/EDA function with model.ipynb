{
 "cells": [
  {
   "cell_type": "markdown",
   "id": "8d22d61a",
   "metadata": {},
   "source": [
    "## 1. Libraries"
   ]
  },
  {
   "cell_type": "code",
   "execution_count": 1,
   "id": "020d3e48",
   "metadata": {},
   "outputs": [],
   "source": [
    "#pip install imblearn\n"
   ]
  },
  {
   "cell_type": "code",
   "execution_count": 2,
   "id": "3ae215ae",
   "metadata": {},
   "outputs": [],
   "source": [
    "import pandas as pd\n",
    "import numpy as np\n",
    "import re\n",
    "\n",
    "#visualisation Libraries\n",
    "#import matplotlib.pyplot as plt\n",
    "#import seaborn as sns\n",
    "#import plotly.express as px\n",
    "#%matplotlib inline\n",
    "\n",
    "#Libraries to build model\n",
    "from sklearn.model_selection import train_test_split\n",
    "from sklearn.linear_model  import LogisticRegression\n",
    "from sklearn.tree   import DecisionTreeClassifier\n",
    "from sklearn.ensemble  import AdaBoostClassifier\n",
    "from sklearn.metrics  import confusion_matrix ,accuracy_score, precision_score,recall_score\n",
    "from sklearn.metrics import classification_report, roc_curve, f1_score,roc_auc_score\n",
    "from sklearn.preprocessing import StandardScaler, MinMaxScaler, RobustScaler\n",
    "from sklearn.preprocessing import LabelEncoder\n",
    "from skfeature.function.similarity_based import fisher_score\n",
    "#from mlxtend.feature_selection import SequentialFeatureSelector\n",
    "from sklearn.neighbors import KNeighborsClassifier\n",
    "from sklearn.model_selection import GridSearchCV, RandomizedSearchCV\n",
    "from datetime import date\n",
    "from sklearn.ensemble import BaggingClassifier, RandomForestClassifier, VotingClassifier, StackingClassifier\n",
    "import warnings\n",
    "warnings.filterwarnings(\"ignore\")\n",
    "\n",
    "from imblearn.over_sampling import RandomOverSampler, SMOTE, ADASYN\n",
    "from imblearn.combine import SMOTETomek"
   ]
  },
  {
   "cell_type": "markdown",
   "id": "8bb6daa1",
   "metadata": {},
   "source": [
    "## 2. Problem Statement"
   ]
  },
  {
   "cell_type": "markdown",
   "id": "da302c4d",
   "metadata": {},
   "source": [
    "Bank wants to improve its term deposit subscription rate by accurately predicting which of its clients will subscribe to a \n",
    "term deposit. The bank has a large client database that includes various demographic, financial, and transactional\n",
    "information about its clients. However, despite this information, the bank still struggles to predict which clients \n",
    "will subscribe to a term deposit, leading to missed opportunities and reduced profits. The goal of this project is to \n",
    "develop a machine learning model that can accurately predict which clients are likely to subscribe to a term deposit. \n",
    "This will enable the bank to target its marketing efforts more effectively, resulting in increased term deposit \n",
    "subscriptions and higher profits."
   ]
  },
  {
   "cell_type": "markdown",
   "id": "8856efa0",
   "metadata": {},
   "source": [
    "## 3.Data Gathering"
   ]
  },
  {
   "cell_type": "code",
   "execution_count": 3,
   "id": "4663b709",
   "metadata": {},
   "outputs": [
    {
     "ename": "FileNotFoundError",
     "evalue": "[Errno 2] No such file or directory: 'C:\\\\Users\\\\ngutthe\\\\Downloads\\\\bank-full (1).csv'",
     "output_type": "error",
     "traceback": [
      "\u001b[1;31m---------------------------------------------------------------------------\u001b[0m",
      "\u001b[1;31mFileNotFoundError\u001b[0m                         Traceback (most recent call last)",
      "Cell \u001b[1;32mIn [3], line 1\u001b[0m\n\u001b[1;32m----> 1\u001b[0m bnk_mark_df \u001b[38;5;241m=\u001b[39m \u001b[43mpd\u001b[49m\u001b[38;5;241;43m.\u001b[39;49m\u001b[43mread_csv\u001b[49m\u001b[43m(\u001b[49m\u001b[38;5;124;43mr\u001b[39;49m\u001b[38;5;124;43m\"\u001b[39;49m\u001b[38;5;124;43mC:\u001b[39;49m\u001b[38;5;124;43m\\\u001b[39;49m\u001b[38;5;124;43mUsers\u001b[39;49m\u001b[38;5;124;43m\\\u001b[39;49m\u001b[38;5;124;43mngutthe\u001b[39;49m\u001b[38;5;124;43m\\\u001b[39;49m\u001b[38;5;124;43mDownloads\u001b[39;49m\u001b[38;5;124;43m\\\u001b[39;49m\u001b[38;5;124;43mbank-full (1).csv\u001b[39;49m\u001b[38;5;124;43m\"\u001b[39;49m\u001b[43m)\u001b[49m\n\u001b[0;32m      2\u001b[0m bnk_mark_df\n",
      "File \u001b[1;32m~\\AppData\\Local\\Programs\\Python\\Python311\\Lib\\site-packages\\pandas\\util\\_decorators.py:211\u001b[0m, in \u001b[0;36mdeprecate_kwarg.<locals>._deprecate_kwarg.<locals>.wrapper\u001b[1;34m(*args, **kwargs)\u001b[0m\n\u001b[0;32m    209\u001b[0m     \u001b[38;5;28;01melse\u001b[39;00m:\n\u001b[0;32m    210\u001b[0m         kwargs[new_arg_name] \u001b[38;5;241m=\u001b[39m new_arg_value\n\u001b[1;32m--> 211\u001b[0m \u001b[38;5;28;01mreturn\u001b[39;00m \u001b[43mfunc\u001b[49m\u001b[43m(\u001b[49m\u001b[38;5;241;43m*\u001b[39;49m\u001b[43margs\u001b[49m\u001b[43m,\u001b[49m\u001b[43m \u001b[49m\u001b[38;5;241;43m*\u001b[39;49m\u001b[38;5;241;43m*\u001b[39;49m\u001b[43mkwargs\u001b[49m\u001b[43m)\u001b[49m\n",
      "File \u001b[1;32m~\\AppData\\Local\\Programs\\Python\\Python311\\Lib\\site-packages\\pandas\\util\\_decorators.py:331\u001b[0m, in \u001b[0;36mdeprecate_nonkeyword_arguments.<locals>.decorate.<locals>.wrapper\u001b[1;34m(*args, **kwargs)\u001b[0m\n\u001b[0;32m    325\u001b[0m \u001b[38;5;28;01mif\u001b[39;00m \u001b[38;5;28mlen\u001b[39m(args) \u001b[38;5;241m>\u001b[39m num_allow_args:\n\u001b[0;32m    326\u001b[0m     warnings\u001b[38;5;241m.\u001b[39mwarn(\n\u001b[0;32m    327\u001b[0m         msg\u001b[38;5;241m.\u001b[39mformat(arguments\u001b[38;5;241m=\u001b[39m_format_argument_list(allow_args)),\n\u001b[0;32m    328\u001b[0m         \u001b[38;5;167;01mFutureWarning\u001b[39;00m,\n\u001b[0;32m    329\u001b[0m         stacklevel\u001b[38;5;241m=\u001b[39mfind_stack_level(),\n\u001b[0;32m    330\u001b[0m     )\n\u001b[1;32m--> 331\u001b[0m \u001b[38;5;28;01mreturn\u001b[39;00m \u001b[43mfunc\u001b[49m\u001b[43m(\u001b[49m\u001b[38;5;241;43m*\u001b[39;49m\u001b[43margs\u001b[49m\u001b[43m,\u001b[49m\u001b[43m \u001b[49m\u001b[38;5;241;43m*\u001b[39;49m\u001b[38;5;241;43m*\u001b[39;49m\u001b[43mkwargs\u001b[49m\u001b[43m)\u001b[49m\n",
      "File \u001b[1;32m~\\AppData\\Local\\Programs\\Python\\Python311\\Lib\\site-packages\\pandas\\io\\parsers\\readers.py:950\u001b[0m, in \u001b[0;36mread_csv\u001b[1;34m(filepath_or_buffer, sep, delimiter, header, names, index_col, usecols, squeeze, prefix, mangle_dupe_cols, dtype, engine, converters, true_values, false_values, skipinitialspace, skiprows, skipfooter, nrows, na_values, keep_default_na, na_filter, verbose, skip_blank_lines, parse_dates, infer_datetime_format, keep_date_col, date_parser, dayfirst, cache_dates, iterator, chunksize, compression, thousands, decimal, lineterminator, quotechar, quoting, doublequote, escapechar, comment, encoding, encoding_errors, dialect, error_bad_lines, warn_bad_lines, on_bad_lines, delim_whitespace, low_memory, memory_map, float_precision, storage_options)\u001b[0m\n\u001b[0;32m    935\u001b[0m kwds_defaults \u001b[38;5;241m=\u001b[39m _refine_defaults_read(\n\u001b[0;32m    936\u001b[0m     dialect,\n\u001b[0;32m    937\u001b[0m     delimiter,\n\u001b[1;32m   (...)\u001b[0m\n\u001b[0;32m    946\u001b[0m     defaults\u001b[38;5;241m=\u001b[39m{\u001b[38;5;124m\"\u001b[39m\u001b[38;5;124mdelimiter\u001b[39m\u001b[38;5;124m\"\u001b[39m: \u001b[38;5;124m\"\u001b[39m\u001b[38;5;124m,\u001b[39m\u001b[38;5;124m\"\u001b[39m},\n\u001b[0;32m    947\u001b[0m )\n\u001b[0;32m    948\u001b[0m kwds\u001b[38;5;241m.\u001b[39mupdate(kwds_defaults)\n\u001b[1;32m--> 950\u001b[0m \u001b[38;5;28;01mreturn\u001b[39;00m \u001b[43m_read\u001b[49m\u001b[43m(\u001b[49m\u001b[43mfilepath_or_buffer\u001b[49m\u001b[43m,\u001b[49m\u001b[43m \u001b[49m\u001b[43mkwds\u001b[49m\u001b[43m)\u001b[49m\n",
      "File \u001b[1;32m~\\AppData\\Local\\Programs\\Python\\Python311\\Lib\\site-packages\\pandas\\io\\parsers\\readers.py:605\u001b[0m, in \u001b[0;36m_read\u001b[1;34m(filepath_or_buffer, kwds)\u001b[0m\n\u001b[0;32m    602\u001b[0m _validate_names(kwds\u001b[38;5;241m.\u001b[39mget(\u001b[38;5;124m\"\u001b[39m\u001b[38;5;124mnames\u001b[39m\u001b[38;5;124m\"\u001b[39m, \u001b[38;5;28;01mNone\u001b[39;00m))\n\u001b[0;32m    604\u001b[0m \u001b[38;5;66;03m# Create the parser.\u001b[39;00m\n\u001b[1;32m--> 605\u001b[0m parser \u001b[38;5;241m=\u001b[39m \u001b[43mTextFileReader\u001b[49m\u001b[43m(\u001b[49m\u001b[43mfilepath_or_buffer\u001b[49m\u001b[43m,\u001b[49m\u001b[43m \u001b[49m\u001b[38;5;241;43m*\u001b[39;49m\u001b[38;5;241;43m*\u001b[39;49m\u001b[43mkwds\u001b[49m\u001b[43m)\u001b[49m\n\u001b[0;32m    607\u001b[0m \u001b[38;5;28;01mif\u001b[39;00m chunksize \u001b[38;5;129;01mor\u001b[39;00m iterator:\n\u001b[0;32m    608\u001b[0m     \u001b[38;5;28;01mreturn\u001b[39;00m parser\n",
      "File \u001b[1;32m~\\AppData\\Local\\Programs\\Python\\Python311\\Lib\\site-packages\\pandas\\io\\parsers\\readers.py:1442\u001b[0m, in \u001b[0;36mTextFileReader.__init__\u001b[1;34m(self, f, engine, **kwds)\u001b[0m\n\u001b[0;32m   1439\u001b[0m     \u001b[38;5;28mself\u001b[39m\u001b[38;5;241m.\u001b[39moptions[\u001b[38;5;124m\"\u001b[39m\u001b[38;5;124mhas_index_names\u001b[39m\u001b[38;5;124m\"\u001b[39m] \u001b[38;5;241m=\u001b[39m kwds[\u001b[38;5;124m\"\u001b[39m\u001b[38;5;124mhas_index_names\u001b[39m\u001b[38;5;124m\"\u001b[39m]\n\u001b[0;32m   1441\u001b[0m \u001b[38;5;28mself\u001b[39m\u001b[38;5;241m.\u001b[39mhandles: IOHandles \u001b[38;5;241m|\u001b[39m \u001b[38;5;28;01mNone\u001b[39;00m \u001b[38;5;241m=\u001b[39m \u001b[38;5;28;01mNone\u001b[39;00m\n\u001b[1;32m-> 1442\u001b[0m \u001b[38;5;28mself\u001b[39m\u001b[38;5;241m.\u001b[39m_engine \u001b[38;5;241m=\u001b[39m \u001b[38;5;28;43mself\u001b[39;49m\u001b[38;5;241;43m.\u001b[39;49m\u001b[43m_make_engine\u001b[49m\u001b[43m(\u001b[49m\u001b[43mf\u001b[49m\u001b[43m,\u001b[49m\u001b[43m \u001b[49m\u001b[38;5;28;43mself\u001b[39;49m\u001b[38;5;241;43m.\u001b[39;49m\u001b[43mengine\u001b[49m\u001b[43m)\u001b[49m\n",
      "File \u001b[1;32m~\\AppData\\Local\\Programs\\Python\\Python311\\Lib\\site-packages\\pandas\\io\\parsers\\readers.py:1735\u001b[0m, in \u001b[0;36mTextFileReader._make_engine\u001b[1;34m(self, f, engine)\u001b[0m\n\u001b[0;32m   1733\u001b[0m     \u001b[38;5;28;01mif\u001b[39;00m \u001b[38;5;124m\"\u001b[39m\u001b[38;5;124mb\u001b[39m\u001b[38;5;124m\"\u001b[39m \u001b[38;5;129;01mnot\u001b[39;00m \u001b[38;5;129;01min\u001b[39;00m mode:\n\u001b[0;32m   1734\u001b[0m         mode \u001b[38;5;241m+\u001b[39m\u001b[38;5;241m=\u001b[39m \u001b[38;5;124m\"\u001b[39m\u001b[38;5;124mb\u001b[39m\u001b[38;5;124m\"\u001b[39m\n\u001b[1;32m-> 1735\u001b[0m \u001b[38;5;28mself\u001b[39m\u001b[38;5;241m.\u001b[39mhandles \u001b[38;5;241m=\u001b[39m \u001b[43mget_handle\u001b[49m\u001b[43m(\u001b[49m\n\u001b[0;32m   1736\u001b[0m \u001b[43m    \u001b[49m\u001b[43mf\u001b[49m\u001b[43m,\u001b[49m\n\u001b[0;32m   1737\u001b[0m \u001b[43m    \u001b[49m\u001b[43mmode\u001b[49m\u001b[43m,\u001b[49m\n\u001b[0;32m   1738\u001b[0m \u001b[43m    \u001b[49m\u001b[43mencoding\u001b[49m\u001b[38;5;241;43m=\u001b[39;49m\u001b[38;5;28;43mself\u001b[39;49m\u001b[38;5;241;43m.\u001b[39;49m\u001b[43moptions\u001b[49m\u001b[38;5;241;43m.\u001b[39;49m\u001b[43mget\u001b[49m\u001b[43m(\u001b[49m\u001b[38;5;124;43m\"\u001b[39;49m\u001b[38;5;124;43mencoding\u001b[39;49m\u001b[38;5;124;43m\"\u001b[39;49m\u001b[43m,\u001b[49m\u001b[43m \u001b[49m\u001b[38;5;28;43;01mNone\u001b[39;49;00m\u001b[43m)\u001b[49m\u001b[43m,\u001b[49m\n\u001b[0;32m   1739\u001b[0m \u001b[43m    \u001b[49m\u001b[43mcompression\u001b[49m\u001b[38;5;241;43m=\u001b[39;49m\u001b[38;5;28;43mself\u001b[39;49m\u001b[38;5;241;43m.\u001b[39;49m\u001b[43moptions\u001b[49m\u001b[38;5;241;43m.\u001b[39;49m\u001b[43mget\u001b[49m\u001b[43m(\u001b[49m\u001b[38;5;124;43m\"\u001b[39;49m\u001b[38;5;124;43mcompression\u001b[39;49m\u001b[38;5;124;43m\"\u001b[39;49m\u001b[43m,\u001b[49m\u001b[43m \u001b[49m\u001b[38;5;28;43;01mNone\u001b[39;49;00m\u001b[43m)\u001b[49m\u001b[43m,\u001b[49m\n\u001b[0;32m   1740\u001b[0m \u001b[43m    \u001b[49m\u001b[43mmemory_map\u001b[49m\u001b[38;5;241;43m=\u001b[39;49m\u001b[38;5;28;43mself\u001b[39;49m\u001b[38;5;241;43m.\u001b[39;49m\u001b[43moptions\u001b[49m\u001b[38;5;241;43m.\u001b[39;49m\u001b[43mget\u001b[49m\u001b[43m(\u001b[49m\u001b[38;5;124;43m\"\u001b[39;49m\u001b[38;5;124;43mmemory_map\u001b[39;49m\u001b[38;5;124;43m\"\u001b[39;49m\u001b[43m,\u001b[49m\u001b[43m \u001b[49m\u001b[38;5;28;43;01mFalse\u001b[39;49;00m\u001b[43m)\u001b[49m\u001b[43m,\u001b[49m\n\u001b[0;32m   1741\u001b[0m \u001b[43m    \u001b[49m\u001b[43mis_text\u001b[49m\u001b[38;5;241;43m=\u001b[39;49m\u001b[43mis_text\u001b[49m\u001b[43m,\u001b[49m\n\u001b[0;32m   1742\u001b[0m \u001b[43m    \u001b[49m\u001b[43merrors\u001b[49m\u001b[38;5;241;43m=\u001b[39;49m\u001b[38;5;28;43mself\u001b[39;49m\u001b[38;5;241;43m.\u001b[39;49m\u001b[43moptions\u001b[49m\u001b[38;5;241;43m.\u001b[39;49m\u001b[43mget\u001b[49m\u001b[43m(\u001b[49m\u001b[38;5;124;43m\"\u001b[39;49m\u001b[38;5;124;43mencoding_errors\u001b[39;49m\u001b[38;5;124;43m\"\u001b[39;49m\u001b[43m,\u001b[49m\u001b[43m \u001b[49m\u001b[38;5;124;43m\"\u001b[39;49m\u001b[38;5;124;43mstrict\u001b[39;49m\u001b[38;5;124;43m\"\u001b[39;49m\u001b[43m)\u001b[49m\u001b[43m,\u001b[49m\n\u001b[0;32m   1743\u001b[0m \u001b[43m    \u001b[49m\u001b[43mstorage_options\u001b[49m\u001b[38;5;241;43m=\u001b[39;49m\u001b[38;5;28;43mself\u001b[39;49m\u001b[38;5;241;43m.\u001b[39;49m\u001b[43moptions\u001b[49m\u001b[38;5;241;43m.\u001b[39;49m\u001b[43mget\u001b[49m\u001b[43m(\u001b[49m\u001b[38;5;124;43m\"\u001b[39;49m\u001b[38;5;124;43mstorage_options\u001b[39;49m\u001b[38;5;124;43m\"\u001b[39;49m\u001b[43m,\u001b[49m\u001b[43m \u001b[49m\u001b[38;5;28;43;01mNone\u001b[39;49;00m\u001b[43m)\u001b[49m\u001b[43m,\u001b[49m\n\u001b[0;32m   1744\u001b[0m \u001b[43m\u001b[49m\u001b[43m)\u001b[49m\n\u001b[0;32m   1745\u001b[0m \u001b[38;5;28;01massert\u001b[39;00m \u001b[38;5;28mself\u001b[39m\u001b[38;5;241m.\u001b[39mhandles \u001b[38;5;129;01mis\u001b[39;00m \u001b[38;5;129;01mnot\u001b[39;00m \u001b[38;5;28;01mNone\u001b[39;00m\n\u001b[0;32m   1746\u001b[0m f \u001b[38;5;241m=\u001b[39m \u001b[38;5;28mself\u001b[39m\u001b[38;5;241m.\u001b[39mhandles\u001b[38;5;241m.\u001b[39mhandle\n",
      "File \u001b[1;32m~\\AppData\\Local\\Programs\\Python\\Python311\\Lib\\site-packages\\pandas\\io\\common.py:856\u001b[0m, in \u001b[0;36mget_handle\u001b[1;34m(path_or_buf, mode, encoding, compression, memory_map, is_text, errors, storage_options)\u001b[0m\n\u001b[0;32m    851\u001b[0m \u001b[38;5;28;01melif\u001b[39;00m \u001b[38;5;28misinstance\u001b[39m(handle, \u001b[38;5;28mstr\u001b[39m):\n\u001b[0;32m    852\u001b[0m     \u001b[38;5;66;03m# Check whether the filename is to be opened in binary mode.\u001b[39;00m\n\u001b[0;32m    853\u001b[0m     \u001b[38;5;66;03m# Binary mode does not support 'encoding' and 'newline'.\u001b[39;00m\n\u001b[0;32m    854\u001b[0m     \u001b[38;5;28;01mif\u001b[39;00m ioargs\u001b[38;5;241m.\u001b[39mencoding \u001b[38;5;129;01mand\u001b[39;00m \u001b[38;5;124m\"\u001b[39m\u001b[38;5;124mb\u001b[39m\u001b[38;5;124m\"\u001b[39m \u001b[38;5;129;01mnot\u001b[39;00m \u001b[38;5;129;01min\u001b[39;00m ioargs\u001b[38;5;241m.\u001b[39mmode:\n\u001b[0;32m    855\u001b[0m         \u001b[38;5;66;03m# Encoding\u001b[39;00m\n\u001b[1;32m--> 856\u001b[0m         handle \u001b[38;5;241m=\u001b[39m \u001b[38;5;28;43mopen\u001b[39;49m\u001b[43m(\u001b[49m\n\u001b[0;32m    857\u001b[0m \u001b[43m            \u001b[49m\u001b[43mhandle\u001b[49m\u001b[43m,\u001b[49m\n\u001b[0;32m    858\u001b[0m \u001b[43m            \u001b[49m\u001b[43mioargs\u001b[49m\u001b[38;5;241;43m.\u001b[39;49m\u001b[43mmode\u001b[49m\u001b[43m,\u001b[49m\n\u001b[0;32m    859\u001b[0m \u001b[43m            \u001b[49m\u001b[43mencoding\u001b[49m\u001b[38;5;241;43m=\u001b[39;49m\u001b[43mioargs\u001b[49m\u001b[38;5;241;43m.\u001b[39;49m\u001b[43mencoding\u001b[49m\u001b[43m,\u001b[49m\n\u001b[0;32m    860\u001b[0m \u001b[43m            \u001b[49m\u001b[43merrors\u001b[49m\u001b[38;5;241;43m=\u001b[39;49m\u001b[43merrors\u001b[49m\u001b[43m,\u001b[49m\n\u001b[0;32m    861\u001b[0m \u001b[43m            \u001b[49m\u001b[43mnewline\u001b[49m\u001b[38;5;241;43m=\u001b[39;49m\u001b[38;5;124;43m\"\u001b[39;49m\u001b[38;5;124;43m\"\u001b[39;49m\u001b[43m,\u001b[49m\n\u001b[0;32m    862\u001b[0m \u001b[43m        \u001b[49m\u001b[43m)\u001b[49m\n\u001b[0;32m    863\u001b[0m     \u001b[38;5;28;01melse\u001b[39;00m:\n\u001b[0;32m    864\u001b[0m         \u001b[38;5;66;03m# Binary mode\u001b[39;00m\n\u001b[0;32m    865\u001b[0m         handle \u001b[38;5;241m=\u001b[39m \u001b[38;5;28mopen\u001b[39m(handle, ioargs\u001b[38;5;241m.\u001b[39mmode)\n",
      "\u001b[1;31mFileNotFoundError\u001b[0m: [Errno 2] No such file or directory: 'C:\\\\Users\\\\ngutthe\\\\Downloads\\\\bank-full (1).csv'"
     ]
    }
   ],
   "source": [
    "bnk_mark_df = pd.read_csv(r\"\")\n",
    "bnk_mark_df"
   ]
  },
  {
   "cell_type": "markdown",
   "id": "f4ac481d",
   "metadata": {},
   "source": [
    "## 4. Pre-processing"
   ]
  },
  {
   "cell_type": "code",
   "execution_count": null,
   "id": "fc554ea0",
   "metadata": {},
   "outputs": [],
   "source": [
    "def pre_processing(bnk_mark_df): \n",
    "    \n",
    "    #AGE \n",
    "    bnk_mark_df['age'] = np.where(bnk_mark_df['age']>=70 ,bnk_mark_df['age'].median(),bnk_mark_df['age'])\n",
    "    encoder=LabelEncoder()\n",
    "    \n",
    "    #JOB\n",
    "    bnk_mark_df['job']=encoder.fit_transform(bnk_mark_df['job'])\n",
    "    bnk_mark_df['job']\n",
    "    \n",
    "    #MARITAL\n",
    "    bnk_mark_df['marital'].replace({'married': 0, 'single': 1, 'divorced': 2}, inplace=True)\n",
    "    \n",
    "    #EDUCATION\n",
    "    bnk_mark_df['education'].replace({'secondary': 2, 'tertiary': 3, 'primary':1, 'unknown':0}, inplace=True)\n",
    "    bnk_mark_df['education'] = np.where(bnk_mark_df['education']<=0.5 ,bnk_mark_df['education'].median(),bnk_mark_df['education'])\n",
    "    \n",
    "    #DEFAULT\n",
    "    bnk_mark_df['default'].replace({'no': 0, 'yes': 1}, inplace=True)\n",
    "    \n",
    "    #BALANCE\n",
    "    bnk_mark_df['balance'] = np.where(bnk_mark_df['balance']>=45000 ,bnk_mark_df['balance'].median(),bnk_mark_df['balance'])\n",
    "    bnk_mark_df['balance'] = np.where(bnk_mark_df['balance']<=-2000 ,bnk_mark_df['balance'].median(),bnk_mark_df['balance'])\n",
    "    \n",
    "    #HOUSNING\n",
    "    bnk_mark_df['housing'].replace({'no': 0, 'yes': 1}, inplace=True)\n",
    "    \n",
    "    #LOAN\n",
    "    bnk_mark_df['loan'].replace({'no': 0, 'yes': 1}, inplace=True)\n",
    "    \n",
    "    #CONTACT\n",
    "    bnk_mark_df['contact'].replace({'cellular': 1, 'unknown': 2, 'telephone': 3}, inplace=True)\n",
    "    \n",
    "    #MONTH\n",
    "    bnk_mark_df['month'].replace({'may': 5,\n",
    "     'jul': 7,\n",
    "     'aug': 8,\n",
    "     'jun': 6,\n",
    "     'nov': 11,\n",
    "     'apr': 4,\n",
    "     'feb': 2,\n",
    "     'jan': 1,\n",
    "     'oct': 10,\n",
    "     'sep': 9,\n",
    "     'mar': 3,\n",
    "     'dec': 12}, inplace=True)\n",
    "    \n",
    "    #DURATION\n",
    "    bnk_mark_df['duration'] = np.where(bnk_mark_df['duration']>=3000 ,bnk_mark_df['duration'].median(),bnk_mark_df['duration'])\n",
    "    \n",
    "    #CAMPAIGN\n",
    "    bnk_mark_df['campaign'] = np.where(bnk_mark_df['campaign']>=45 ,bnk_mark_df['campaign'].median(),bnk_mark_df['campaign'])\n",
    "    \n",
    "    #PREVIOUS\n",
    "    bnk_mark_df['previous'] = np.where(bnk_mark_df['previous']>=45 ,bnk_mark_df['previous'].median(),bnk_mark_df['previous'])\n",
    "    \n",
    "    #PREVIOUS_OUTCOME\n",
    "    bnk_mark_df['previous_outcome'].replace({'unknown': 3, 'failure': 0, 'other': 2, 'success': 1}, inplace=True)\n",
    "    \n",
    "    #OFFER_STATUS\n",
    "    bnk_mark_df['offer_status'].replace({'no': 0, 'yes': 1}, inplace=True)\n",
    "     \n",
    "    #CSV\n",
    "    \n",
    "    #pre_process_df.to_csv(r'C:\\Users\\Prathamesh\\Desktop\\project_bank\\Data\\clean_df.csv')\n",
    "    return bnk_mark_df\n",
    "pre_process_df = pre_processing(bnk_mark_df)\n",
    "pre_process_df\n"
   ]
  },
  {
   "cell_type": "markdown",
   "id": "813fe96a",
   "metadata": {},
   "source": [
    "## 5. Model Training and eveluation."
   ]
  },
  {
   "cell_type": "code",
   "execution_count": null,
   "id": "ad0b6ec7",
   "metadata": {},
   "outputs": [],
   "source": [
    "def fit_score(pre_process_df):\n",
    "    global x\n",
    "    global y\n",
    "    global min_train_x\n",
    "    global min_test_y\n",
    "    global x_train\n",
    "    global y_train\n",
    "    # TRAIN_TEST_SPLIT\n",
    "    x = bnk_mark_df.drop(['age','balance','contact','day','month','duration','passed_days','offer_status'], axis=1)\n",
    "    y = bnk_mark_df[['offer_status']]\n",
    "    x_train,x_test,y_train,y_test =train_test_split(x,y, test_size=0.2,random_state=35,stratify=y)\n",
    "    \n",
    "    # CSV\n",
    "    #x_train.to_csv(r'C:\\Users\\Prathamesh\\Desktop\\project_bank\\Data\\Processed_df\\Train\\x_train.csv')\n",
    "    #y_train.to_csv(r'C:\\Users\\Prathamesh\\Desktop\\project_bank\\Data\\Processed_df\\Train\\y_train.csv')\n",
    "    #x_test.to_csv(r'C:\\Users\\Prathamesh\\Desktop\\project_bank\\Data\\Processed_df\\Test\\x_test.csv')\n",
    "    #y_test.to_csv(r'C:\\Users\\Prathamesh\\Desktop\\project_bank\\Data\\Processed_df\\Test\\y_test.csv')\n",
    "    \n",
    "    # FEATURE_SCALING (MIN_MAX_SCALER)\n",
    "    min_scaler = MinMaxScaler()\n",
    "    #min_scaler.fit(x_train)                                     \n",
    "    min_train_x = min_scaler.fit_transform(x_train)\n",
    "    min_test_y = min_scaler.transform(x_test)\n",
    "    \n",
    "    # SMOTE\n",
    "    smote_os = SMOTE(sampling_strategy='auto')\n",
    "    x_train_sm, y_train_sm = smote_os.fit_resample(min_train_x,y_train)\n",
    "    print(y_train.value_counts())\n",
    "    print(y_train_sm.value_counts())\n",
    "\n",
    "    global rf_clf\n",
    "    #MODEL_BUILDING (RANDOM_FOREST)\n",
    "    rf_clf = RandomForestClassifier(random_state=11, n_estimators = 30, oob_score=True, n_jobs=-1)\n",
    "    rf_clf=rf_clf.fit(x_train,y_train)\n",
    "    print('Model Executed '.center(50, '*'))\n",
    "    print('RANDOM FOREST')\n",
    "    \n",
    "    \n",
    "\n",
    "   # Model Evaluation \n",
    "    def model_evaluation(algo, ind_var, y_act ):\n",
    "        model=algo\n",
    "        pred = model.predict(ind_var)\n",
    "    \n",
    "        accuracy_rate = accuracy_score(y_act, pred)\n",
    "        print('Accuracy of model is : ',accuracy_rate)\n",
    "        print()\n",
    "\n",
    "        conf_matrix = confusion_matrix(y_act, pred)\n",
    "        print('confusion matrix is : \\n', conf_matrix)\n",
    "        print()\n",
    "\n",
    "        clsf_report = classification_report(y_act, pred)\n",
    "        print('classification report is : \\n', clsf_report)\n",
    "    \n",
    "        return pred,model_evaluation\n",
    "\n",
    "    print('Test evaluation data '.center(50, '*'))\n",
    "    print()\n",
    "    model_evaluation(rf_clf, x_test, y_test)\n",
    "    print()\n",
    "    print()\n",
    "    print('Train evaluation data '.center(50, '*'))\n",
    "    print()\n",
    "    model_evaluation(rf_clf, x_train, y_train)\n",
    "\n",
    "\n",
    "random_forest_clf = fit_score(pre_process_df)\n",
    "random_forest_clf\n"
   ]
  },
  {
   "cell_type": "markdown",
   "id": "a8f9fb6b",
   "metadata": {},
   "source": [
    "## 6.Testing on single row"
   ]
  },
  {
   "cell_type": "code",
   "execution_count": null,
   "id": "564f237d",
   "metadata": {},
   "outputs": [],
   "source": [
    "x.head(1).T"
   ]
  },
  {
   "cell_type": "code",
   "execution_count": null,
   "id": "e3f4b9cc",
   "metadata": {},
   "outputs": [],
   "source": [
    "job = 'management'\n",
    "marital = 'married'\n",
    "education = 'primary'\n",
    "default  = 'no'\n",
    "housing  = 'yes'\n",
    "loan    = 'no'\n",
    "campaign = 4.0\n",
    "previous  = 2.0\n",
    "previous_outcome = 'failure'\n",
    "\n",
    "\n",
    "# offer_subscription = ?\n",
    "\n"
   ]
  },
  {
   "cell_type": "code",
   "execution_count": null,
   "id": "73cdb8fb",
   "metadata": {},
   "outputs": [],
   "source": [
    "test_array = np.array([4.0, 1.0, 1.0, 0.0,1.0, 0.0, campaign ,previous,0.0 ], ndmin = 2)\n",
    "test_array"
   ]
  },
  {
   "cell_type": "code",
   "execution_count": null,
   "id": "84e7daea",
   "metadata": {},
   "outputs": [],
   "source": [
    "rf_clf.predict(test_array)"
   ]
  },
  {
   "cell_type": "code",
   "execution_count": null,
   "id": "63e07771",
   "metadata": {},
   "outputs": [],
   "source": [
    "test_array = np.array([job,marital,education,default,housing,loan,campaign,previous,previous_outcome],ndmin=2)\n",
    "test_array"
   ]
  },
  {
   "cell_type": "code",
   "execution_count": null,
   "id": "cb907340",
   "metadata": {},
   "outputs": [],
   "source": [
    "print(x.columns)\n",
    "len(x.columns)"
   ]
  },
  {
   "cell_type": "code",
   "execution_count": null,
   "id": "41fccd97",
   "metadata": {},
   "outputs": [],
   "source": [
    "x.shape[1]"
   ]
  },
  {
   "cell_type": "code",
   "execution_count": null,
   "id": "ecb16b68",
   "metadata": {},
   "outputs": [],
   "source": [
    "job_dict = {'admin':0,'blue-collar':1,'enterpreneur':2,'housemade':3,'management':4,'retired':5,\n",
    "           'self-employed':6,'services':7,'student':8,'technician':9,'unemployed':10,'unknown':11}\n"
   ]
  },
  {
   "cell_type": "code",
   "execution_count": null,
   "id": "14770fe2",
   "metadata": {},
   "outputs": [],
   "source": [
    "marital_dict = {'married':0,'single':1,'divorced':2}"
   ]
  },
  {
   "cell_type": "code",
   "execution_count": null,
   "id": "21170e7c",
   "metadata": {},
   "outputs": [],
   "source": [
    "education_dict = {'unknown':0, 'primary':1,'secondary':2,'tertiary':3}"
   ]
  },
  {
   "cell_type": "code",
   "execution_count": null,
   "id": "15b8f281",
   "metadata": {},
   "outputs": [],
   "source": [
    "default_dict = {'yes':1,'no':0}"
   ]
  },
  {
   "cell_type": "code",
   "execution_count": null,
   "id": "c72f53a8",
   "metadata": {},
   "outputs": [],
   "source": [
    "housing_dict = {'yes':1,'no':0}"
   ]
  },
  {
   "cell_type": "code",
   "execution_count": null,
   "id": "4636e629",
   "metadata": {},
   "outputs": [],
   "source": [
    "loan_dict = {'yes':1,'no':0}"
   ]
  },
  {
   "cell_type": "code",
   "execution_count": null,
   "id": "509ff0ac",
   "metadata": {},
   "outputs": [],
   "source": [
    "previous_outcome_dict = {'unknown':3,'failure':0,'success':1,'other':2}"
   ]
  },
  {
   "cell_type": "code",
   "execution_count": null,
   "id": "a38ff7f5",
   "metadata": {},
   "outputs": [],
   "source": [
    "project_data = {'job': job_dict ,\n",
    "               'marital': marital_dict ,\n",
    "                'education' : education_dict,\n",
    "                'default' : default_dict,\n",
    "                'housing' : housing_dict,\n",
    "                'loan'     :loan_dict,\n",
    "                'previous_outcome' : previous_outcome_dict,\n",
    "                'columns': list(x.columns)}\n",
    "project_data"
   ]
  },
  {
   "cell_type": "code",
   "execution_count": null,
   "id": "6e848d9b",
   "metadata": {},
   "outputs": [],
   "source": [
    "test_array = np.zeros(x.shape[1])\n",
    "test_array[0] = project_data['job'][job]\n",
    "test_array[1] = project_data['marital'][marital]\n",
    "test_array[2] = project_data['education'][education]\n",
    "test_array[3] = project_data['default'][default]\n",
    "test_array[4] = project_data['housing'][housing]\n",
    "test_array[5] = project_data['loan'][loan]\n",
    "test_array[6] = campaign\n",
    "test_array[7] = previous\n",
    "test_array[8] =  project_data['previous_outcome'][previous_outcome]\n",
    "\n",
    "test_array"
   ]
  },
  {
   "cell_type": "code",
   "execution_count": null,
   "id": "cb1ddbf7",
   "metadata": {},
   "outputs": [],
   "source": [
    "result = np.around(rf_clf.predict([test_array]), 2)\n",
    "print(f'offer subscription status is :{result}')"
   ]
  },
  {
   "cell_type": "code",
   "execution_count": null,
   "id": "b0862ad2",
   "metadata": {},
   "outputs": [],
   "source": [
    "test_array"
   ]
  },
  {
   "cell_type": "code",
   "execution_count": null,
   "id": "64dbf2f3",
   "metadata": {},
   "outputs": [],
   "source": []
  },
  {
   "cell_type": "code",
   "execution_count": null,
   "id": "82d9f6da",
   "metadata": {},
   "outputs": [],
   "source": []
  },
  {
   "cell_type": "code",
   "execution_count": null,
   "id": "3583bb9e",
   "metadata": {},
   "outputs": [],
   "source": []
  },
  {
   "cell_type": "code",
   "execution_count": null,
   "id": "14c31831",
   "metadata": {},
   "outputs": [],
   "source": []
  },
  {
   "cell_type": "code",
   "execution_count": null,
   "id": "905320cb",
   "metadata": {},
   "outputs": [],
   "source": []
  },
  {
   "cell_type": "code",
   "execution_count": null,
   "id": "18374a51",
   "metadata": {},
   "outputs": [],
   "source": []
  },
  {
   "cell_type": "code",
   "execution_count": null,
   "id": "2417df0d",
   "metadata": {},
   "outputs": [],
   "source": []
  },
  {
   "cell_type": "markdown",
   "id": "c27423f8",
   "metadata": {},
   "source": [
    "## 6. Model upload"
   ]
  },
  {
   "cell_type": "code",
   "execution_count": null,
   "id": "113fb6d8",
   "metadata": {},
   "outputs": [],
   "source": [
    "import joblib\n",
    "import pickle\n",
    "with open('random_forest_clf.pkl', 'wb') as file:\n",
    "    pickle.dump(rf_clf, file)\n",
    "\n",
    "with open('random_forest_clf.pkl', 'rb') as file:\n",
    "    pickle.load(file)"
   ]
  },
  {
   "cell_type": "code",
   "execution_count": null,
   "id": "8689782f",
   "metadata": {},
   "outputs": [],
   "source": [
    "import json\n",
    "with open('project_data.json', 'w') as f:\n",
    "    json.dump(project_data, f)"
   ]
  },
  {
   "cell_type": "code",
   "execution_count": null,
   "id": "978ac6ec",
   "metadata": {},
   "outputs": [],
   "source": []
  }
 ],
 "metadata": {
  "kernelspec": {
   "display_name": "Python 3 (ipykernel)",
   "language": "python",
   "name": "python3"
  },
  "language_info": {
   "codemirror_mode": {
    "name": "ipython",
    "version": 3
   },
   "file_extension": ".py",
   "mimetype": "text/x-python",
   "name": "python",
   "nbconvert_exporter": "python",
   "pygments_lexer": "ipython3",
   "version": "3.11.0"
  },
  "vscode": {
   "interpreter": {
    "hash": "2db641163c1e6ef5cbba7a0e3f326e9eb1be82c09106631aa4c0466c45b3adb5"
   }
  }
 },
 "nbformat": 4,
 "nbformat_minor": 5
}
